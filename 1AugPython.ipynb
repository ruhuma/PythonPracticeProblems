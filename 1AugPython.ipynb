{
  "nbformat": 4,
  "nbformat_minor": 0,
  "metadata": {
    "colab": {
      "provenance": []
    },
    "kernelspec": {
      "name": "python3",
      "display_name": "Python 3"
    },
    "language_info": {
      "name": "python"
    }
  },
  "cells": [
    {
      "cell_type": "code",
      "execution_count": 3,
      "metadata": {
        "colab": {
          "base_uri": "https://localhost:8080/"
        },
        "id": "yx1sCPRr9-f_",
        "outputId": "c879afa6-bd4c-4f40-c27d-4cbd3a6c2367"
      },
      "outputs": [
        {
          "output_type": "stream",
          "name": "stdout",
          "text": [
            "Enter the radius: 3\n",
            "Area of the Circle is:  28.259999999999998\n"
          ]
        }
      ],
      "source": [
        "#Python  Problems date: 1 August 2023\n",
        "#Ruhuma Jacob\n",
        "\"\"\"1. Write a Python program which accepts the radius of a circle from the user\n",
        "and compute the area.\n",
        "\"\"\"\n",
        "#import math\n",
        "radius=float(input(\"Enter the radius: \"))\n",
        "#print(\"Area of the Circle is: \",math.pi*radius*radius)\n",
        "print(\"Area of the Circle is: \",3.14*radius*radius)"
      ]
    },
    {
      "cell_type": "code",
      "source": [
        "\"\"\"Write a Python Program to accept the details of a student like name, roll\n",
        "number and mark and display it.\n",
        "\"\"\"\n",
        "#2.\n",
        "name=input(\"Enter the name: \")\n",
        "roll_no=int(input(\"Enter the Roll number: \"))\n",
        "mark=int(input(\"Enter the mark: \"))\n",
        "print(\"Name:\",name)\n",
        "print(\"Roll No.:\",roll_no)\n",
        "print(\"Mark:\",mark)"
      ],
      "metadata": {
        "colab": {
          "base_uri": "https://localhost:8080/"
        },
        "id": "fKtdiPVX-Nou",
        "outputId": "824e8d4c-ee59-4e3f-9914-87fd6f075ce3"
      },
      "execution_count": null,
      "outputs": [
        {
          "output_type": "stream",
          "name": "stdout",
          "text": [
            "Enter the name: Anisha\n",
            "Enter the Roll number: 21\n",
            "Enter the mark: 78\n",
            "Name: Anisha\n",
            "Roll No.: 21\n",
            "Mark: 78\n"
          ]
        }
      ]
    },
    {
      "cell_type": "code",
      "source": [
        "\"\"\"3. Write a Python program to get the largest number from a list.\n",
        "Sample input: 12, 3, 47, 10\n",
        "Sample output: 47 is the largest number.\"\"\"\n",
        "#3\n",
        "mylist=[]\n",
        "for i in range(6):\n",
        "  a=int(input(\"Enter value:\"))\n",
        "  mylist.append(a)\n",
        "largest=mylist[0]\n",
        "for item in mylist:\n",
        "  if item> largest:\n",
        "    largest=item\n",
        "print(largest, \"is the largest number\")"
      ],
      "metadata": {
        "colab": {
          "base_uri": "https://localhost:8080/"
        },
        "id": "wfNhB4QA-pA9",
        "outputId": "c6b8cf39-7924-4c59-d70c-e004ad9e6b5f"
      },
      "execution_count": null,
      "outputs": [
        {
          "output_type": "stream",
          "name": "stdout",
          "text": [
            "Enter value:45\n",
            "Enter value:56\n",
            "Enter value:87\n",
            "Enter value:98\n",
            "Enter value:77\n",
            "Enter value:42\n",
            "98 is the largest number\n"
          ]
        }
      ]
    },
    {
      "cell_type": "code",
      "source": [
        "\"\"\"Given a range of first 10 numbers, write a Python program to iterate from\n",
        "start number to the end number and print the sum of the current number\n",
        "and previous number.\n",
        "Sample input: 1….10\n",
        "Sample output: Current Number 1 Previous Number 0 Sum: 1 Current\n",
        "Number 2 Previous Number 1 Sum: 3 Current Number 3 Previous\n",
        "Number 2 Sum: 5… Current Number 10 Previous Number 9 Sum: 19\"\"\"\n",
        "#4\n",
        "previous=0\n",
        "for item in range(1,11):\n",
        "  current=item\n",
        "  sum=current+previous\n",
        "  print(\"\\nCurrent number:\", current)\n",
        "  print(\"Previous number:\", previous)\n",
        "  print(\"Sum:\", sum)\n",
        "  previous=current"
      ],
      "metadata": {
        "colab": {
          "base_uri": "https://localhost:8080/"
        },
        "id": "DNejKf_O-4jD",
        "outputId": "d2e03934-c895-47f9-964d-74d0798d54ba"
      },
      "execution_count": null,
      "outputs": [
        {
          "output_type": "stream",
          "name": "stdout",
          "text": [
            "\n",
            "Current number: 1\n",
            "Previous number: 0\n",
            "Sum: 1\n",
            "\n",
            "Current number: 2\n",
            "Previous number: 1\n",
            "Sum: 3\n",
            "\n",
            "Current number: 3\n",
            "Previous number: 2\n",
            "Sum: 5\n",
            "\n",
            "Current number: 4\n",
            "Previous number: 3\n",
            "Sum: 7\n",
            "\n",
            "Current number: 5\n",
            "Previous number: 4\n",
            "Sum: 9\n",
            "\n",
            "Current number: 6\n",
            "Previous number: 5\n",
            "Sum: 11\n",
            "\n",
            "Current number: 7\n",
            "Previous number: 6\n",
            "Sum: 13\n",
            "\n",
            "Current number: 8\n",
            "Previous number: 7\n",
            "Sum: 15\n",
            "\n",
            "Current number: 9\n",
            "Previous number: 8\n",
            "Sum: 17\n",
            "\n",
            "Current number: 10\n",
            "Previous number: 9\n",
            "Sum: 19\n"
          ]
        }
      ]
    },
    {
      "cell_type": "code",
      "source": [
        "\"\"\"Write a Python program to print only those numbers which are divisible\n",
        "of 5.\n",
        "Sample input: 10, 20,33,46,55 Sample output: 10, 20, 55\"\"\"\n",
        "#5\n",
        "my_list=[]\n",
        "new_list=[]\n",
        "n=int(input(\"Enter the number of items in list: \"))\n",
        "print(\"Enter the numbers of the list: \")\n",
        "for item in range(0,n):\n",
        "  x = int(input())\n",
        "  my_list.append(x)\n",
        "print(\"Numbers Divisible by 5 are: \")\n",
        "for item in my_list:\n",
        "  if item%5==0:\n",
        "    new_list.append(item)\n",
        "print(new_list)"
      ],
      "metadata": {
        "colab": {
          "base_uri": "https://localhost:8080/"
        },
        "id": "Aeyx14BW--1N",
        "outputId": "fe09f3e3-3fc7-4e9e-84c3-7126b76dc001"
      },
      "execution_count": null,
      "outputs": [
        {
          "output_type": "stream",
          "name": "stdout",
          "text": [
            "Enter the number of items in list: 5\n",
            "Enter the numbers of the list: \n",
            "45\n",
            "52\n",
            "96\n",
            "21\n",
            "55\n",
            "Numbers Divisible by 5 are: \n",
            "[45, 55]\n"
          ]
        }
      ]
    },
    {
      "cell_type": "code",
      "source": [
        "\"\"\"Write a Python program to check whether a number is prime or not.\n",
        "Sample input: Enter the number: 3\n",
        "Sample output: 3 is a prime number.\"\"\"\n",
        "#6\n",
        "count=0\n",
        "x=int(input(\"Enter the number: \"))\n",
        "for i in range(1,n+1):\n",
        "  if x % i==0:\n",
        "    count=count+1\n",
        "\n",
        "if count>2:\n",
        "  print(x,\" is a not a prime number\")\n",
        "else:\n",
        "  print(x, \"is a prime number\")"
      ],
      "metadata": {
        "colab": {
          "base_uri": "https://localhost:8080/"
        },
        "id": "RnNPK0Vb_KFd",
        "outputId": "478001d1-ccdd-4b72-d414-b86b32b2bcce"
      },
      "execution_count": null,
      "outputs": [
        {
          "output_type": "stream",
          "name": "stdout",
          "text": [
            "Enter the number: 3\n",
            "3 is a prime number\n"
          ]
        }
      ]
    },
    {
      "cell_type": "code",
      "source": [
        "\"\"\"Write a Python program to reverse a list using for loop.\n",
        "Sample input: 10,40,30,70\n",
        "Sample output: 70,30,40,10\"\"\"\n",
        "#7\n",
        "my_list=[]\n",
        "rev_list=[]\n",
        "n=int(input(\"Enter the number of items in list: \"))\n",
        "print(\"Enter the numbers of the list: \")\n",
        "for item in range(0,n):\n",
        "  x = int(input())\n",
        "  my_list.append(x)\n",
        "for i in range(n-1,-1,-1):\n",
        "  rev_list.append(my_list[i])\n",
        "print(\"Reversed list: \",rev_list)"
      ],
      "metadata": {
        "colab": {
          "base_uri": "https://localhost:8080/"
        },
        "id": "sC97e-3N_Q4f",
        "outputId": "1479687d-55b4-4cab-9271-52acfecdd755"
      },
      "execution_count": null,
      "outputs": [
        {
          "output_type": "stream",
          "name": "stdout",
          "text": [
            "Enter the number of items in list: 5\n",
            "Enter the numbers of the list: \n",
            "10\n",
            "40\n",
            "30\n",
            "70\n",
            "87\n",
            "Reversed list:  [87, 70, 30, 40, 10]\n"
          ]
        }
      ]
    },
    {
      "cell_type": "code",
      "source": [
        "\"\"\"Write a Python program to print the following pattern.\n",
        "*\n",
        "**\n",
        "***\n",
        "****\"\"\"\n",
        "#8\n",
        "n=4\n",
        "for i in range(1,n+1):\n",
        " print(\"*\"*i)\n"
      ],
      "metadata": {
        "colab": {
          "base_uri": "https://localhost:8080/"
        },
        "id": "VVuehtz8_YAO",
        "outputId": "98efb315-73af-42a6-c3da-01e1b7af685b"
      },
      "execution_count": null,
      "outputs": [
        {
          "output_type": "stream",
          "name": "stdout",
          "text": [
            "*\n",
            "**\n",
            "***\n",
            "****\n"
          ]
        }
      ]
    },
    {
      "cell_type": "code",
      "source": [
        "\"\"\"Write a Python program to find the maximum of three numbers\n",
        "Sample input: 34,12,7\n",
        "Sample output: 34\n",
        "\"\"\"\n",
        "#9\n",
        "mylist=[]\n",
        "for i in range(3):\n",
        "  a=int(input(\"Enter value: \"))\n",
        "  mylist.append(a)\n",
        "print(\"Maximum value:\",max(mylist))"
      ],
      "metadata": {
        "colab": {
          "base_uri": "https://localhost:8080/"
        },
        "id": "wRljHu29_ctJ",
        "outputId": "692da9c5-e3b3-4d70-95ce-529e131c894a"
      },
      "execution_count": null,
      "outputs": [
        {
          "output_type": "stream",
          "name": "stdout",
          "text": [
            "Enter value: 75\n",
            "Enter value: 22\n",
            "Enter value: 13\n",
            "Maximum value: 75\n"
          ]
        }
      ]
    },
    {
      "cell_type": "code",
      "source": [
        "\"\"\"Write a Python program to construct the following pattern, using a\n",
        "nested for loop\"\"\"\n",
        "#10\n",
        "n=6\n",
        "for i in range(1,n):\n",
        "  for j in range(i):\n",
        "    print('*',end='')\n",
        "  print('')\n",
        "for i in range(n,-1,-1):\n",
        "  for j in range(i):\n",
        "    print('*',end='')\n",
        "  print('')"
      ],
      "metadata": {
        "colab": {
          "base_uri": "https://localhost:8080/"
        },
        "id": "NJO0_E73_qR7",
        "outputId": "eca211e0-9909-482d-94e5-a58da2287eef"
      },
      "execution_count": null,
      "outputs": [
        {
          "output_type": "stream",
          "name": "stdout",
          "text": [
            "*\n",
            "**\n",
            "***\n",
            "****\n",
            "*****\n",
            "******\n",
            "*****\n",
            "****\n",
            "***\n",
            "**\n",
            "*\n",
            "\n"
          ]
        }
      ]
    }
  ]
}